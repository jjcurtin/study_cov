{
 "cells": [
  {
   "cell_type": "markdown",
   "metadata": {},
   "source": [
    "# Supplemental Material\n",
    "\n",
    "This file contains the supplemental materials for *Title of paper*. It includes all supplemental figures and tables. Additional materials are made available on our study’s OSF page (<https://osf.io/zh5gn/>).\n",
    "\n",
    "------------------------------------------------------------------------"
   ],
   "id": "ce6db39b-2645-4aee-8c63-818f54ce7366"
  },
  {
   "cell_type": "code",
   "execution_count": null,
   "metadata": {},
   "outputs": [
    {
     "output_type": "stream",
     "name": "stderr",
     "text": [
      "Warning: package 'skimr' was built under R version 4.4.3"
     ]
    },
    {
     "output_type": "stream",
     "name": "stderr",
     "text": [
      "Warning: package 'ggplot2' was built under R version 4.4.3"
     ]
    },
    {
     "output_type": "stream",
     "name": "stderr",
     "text": [
      "Warning: package 'cowplot' was built under R version 4.4.3"
     ]
    },
    {
     "output_type": "stream",
     "name": "stderr",
     "text": [
      "Warning: package 'kableExtra' was built under R version 4.4.3"
     ]
    }
   ],
   "source": [
    "\n",
    "library(dplyr) |> suppressMessages()\n",
    "library(skimr)\n"
   ],
   "id": "ace142fd-2746-4bce-8666-618043a1e027"
  },
  {
   "cell_type": "code",
   "execution_count": null,
   "metadata": {},
   "outputs": [],
   "source": [
    "\n",
    "d_0 <- data.table::fread(here::here(rdrive_path, \"batch_results_new_method_0.csv\"))\n",
    "d_03 <- data.table::fread(here::here(rdrive_path, \"batch_results_new_method_03.csv\"))\n",
    "d_05 <- data.table::fread(here::here(rdrive_path, \"batch_results_new_method_05.csv\"))\n",
    "\n",
    "d_20_covs <- data.table::fread(here::here(rdrive_path, \"batch_results_20_covs.csv\"))\n",
    "d_n50 <- data.table::fread(here::here(rdrive_path, \"batch_results_n50.csv\"))\n",
    "\n",
    "d2_0 <- data.table::fread(here::here(rdrive_path, \"batch_results_new_20K_0.csv\"))\n",
    "d2_03 <- data.table::fread(here::here(rdrive_path, \"batch_results_new_20K_03.csv\"))\n",
    "d2_05 <- data.table::fread(here::here(rdrive_path, \"batch_results_new_20K_05.csv\"))\n",
    "\n",
    "d_wo_x_og <- data.table::fread(here::here(rdrive_path, \"batch_results_methods_wo_x_og_seed.csv\"))\n",
    "d_wo_x_new <- data.table::fread(here::here(rdrive_path, \"batch_results_methods_wo_x_new_seed.csv\"))\n"
   ],
   "id": "bbe57e4e-4bbe-4e21-82a9-59a674743455"
  },
  {
   "cell_type": "code",
   "execution_count": null,
   "metadata": {},
   "outputs": [],
   "source": [
    "\n",
    "d_0 <- rbind(d_0, d_20_covs |> filter(b_x == 0))\n",
    "d_03 <- rbind(d_03, d_20_covs |> filter(b_x == 0.3))\n",
    "d_05 <- rbind(d_05, d_20_covs |> filter(b_x == 0.5))\n",
    "\n",
    "d_0 <- rbind(d_0, d_n50 |> filter(b_x == 0))\n",
    "d_03 <- rbind(d_03, d_n50 |> filter(b_x == 0.3))\n",
    "d_05 <- rbind(d_05, d_n50 |> filter(b_x == 0.5))\n",
    "\n",
    "d_0 <- rbind(d_0, d2_0)\n",
    "d_03 <- rbind(d_03, d2_03)\n",
    "d_05 <- rbind(d_05, d2_05)\n",
    "\n",
    "d_0 <- rbind(d_0, d_wo_x_og |> filter(b_x == 0))\n",
    "d_0 <- rbind(d_0, d_wo_x_new |> filter(b_x == 0))\n",
    "d_03 <- rbind(d_03, d_wo_x_og |> filter(b_x == 0.3))\n",
    "d_03 <- rbind(d_03, d_wo_x_new |> filter(b_x == 0.3))\n",
    "d_05 <- rbind(d_05, d_wo_x_og |> filter(b_x == 0.5))\n",
    "d_05 <- rbind(d_05, d_wo_x_new |> filter(b_x == 0.5))\n"
   ],
   "id": "70662c61-da4f-49f1-a0fe-c13c862a7fcf"
  },
  {
   "cell_type": "code",
   "execution_count": null,
   "metadata": {},
   "outputs": [],
   "source": [
    "\n",
    "d_0 <- d_0 |> \n",
    "  mutate(method = factor(method, c(\"no_covs\", \"all_covs\", \"p_hacked\", \"r\", \"partial_r\", \n",
    "                                   \"full_lm\", \"full_lm_wo_x\", \"lasso\", \"lasso_wo_x\")))\n",
    "\n",
    "d_03 <- d_03 |> \n",
    "  mutate(method = factor(method, c(\"no_covs\", \"all_covs\", \"p_hacked\", \"r\", \"partial_r\", \n",
    "                                   \"full_lm\", \"full_lm_wo_x\", \"lasso\", \"lasso_wo_x\")))\n",
    "\n",
    "d_05 <- d_05 |> \n",
    "  mutate(method = factor(method, c(\"no_covs\", \"all_covs\", \"p_hacked\", \"r\", \"partial_r\", \n",
    "                                   \"full_lm\", \"full_lm_wo_x\", \"lasso\", \"lasso_wo_x\")))\n"
   ],
   "id": "57cb5a52-f030-461c-956d-aab612e5ca87"
  },
  {
   "cell_type": "markdown",
   "metadata": {},
   "source": [
    "### Type I error"
   ],
   "id": "85ea7e47-a82c-4484-a1dd-e1d2d01ab7e9"
  },
  {
   "cell_type": "code",
   "execution_count": null,
   "metadata": {},
   "outputs": [],
   "source": [
    "\n",
    "h0 <- d_0 |> \n",
    "  group_by(method, n_obs, n_covs, r_ycov, p_good_covs, r_cov) |> \n",
    "  summarise(type_I = mean(p_value < 0.05),\n",
    "            .groups = \"drop\")\n"
   ],
   "id": "6e1c9671-bfc0-4d7d-b691-4cc923ac6ead"
  },
  {
   "cell_type": "code",
   "execution_count": null,
   "metadata": {},
   "outputs": [
    {
     "output_type": "stream",
     "name": "stderr",
     "text": [
      "`stat_bin()` using `bins = 30`. Pick better value with `binwidth`."
     ]
    },
    {
     "output_type": "display_data",
     "metadata": {},
     "data": {
      "image/png": "[encoded data removed]"
     }
    }
   ],
   "source": [
    "\n",
    "h0 |>\n",
    "  filter(method == \"p_hacked\") |> \n",
    "  ggplot(aes(x = type_I)) +\n",
    "  geom_histogram() +\n",
    "  facet_wrap(~ method) +\n",
    "  labs(x = \"Type I Error\",\n",
    "       title = \"Distribution of Type I error: p-hacked\")\n"
   ],
   "id": "cell-fig-histogram-phack"
  },
  {
   "cell_type": "code",
   "execution_count": null,
   "metadata": {},
   "outputs": [
    {
     "output_type": "stream",
     "name": "stderr",
     "text": [
      "`stat_bin()` using `bins = 30`. Pick better value with `binwidth`."
     ]
    },
    {
     "output_type": "display_data",
     "metadata": {},
     "data": {
      "image/png": "[encoded data removed]"
     }
    }
   ],
   "source": [
    "\n",
    "h0 |>\n",
    "  filter(method != \"p_hacked\") |> \n",
    "  ggplot(aes(x = type_I)) +\n",
    "  geom_histogram() +\n",
    "  facet_wrap(~ method) +\n",
    "  labs(x = \"Type I Error\",\n",
    "       title = \"Distribution of Type I error\")\n"
   ],
   "id": "cell-fig-histograms-all-0"
  },
  {
   "cell_type": "code",
   "execution_count": null,
   "metadata": {},
   "outputs": [
    {
     "output_type": "display_data",
     "metadata": {},
     "data": {
      "text/html": [
       "\n"
      ],
      "text/markdown": [
       "    n_obs method           typeI_min   typeI_max   typeI_mean\n",
       "  ------- -------------- ----------- ----------- ------------\n",
       "       50 no_covs              0.048       0.053        0.050\n",
       "       50 all_covs             0.048       0.052        0.050\n",
       "       50 p_hacked             0.084       0.426        0.215\n",
       "       50 r                    0.047       0.052        0.050\n",
       "       50 partial_r            0.050       0.072        0.057\n",
       "       50 full_lm              0.054       0.096        0.074\n",
       "       50 full_lm_wo_x         0.048       0.052        0.050\n",
       "       50 lasso                0.052       0.089        0.069\n",
       "       50 lasso_wo_x           0.048       0.052        0.050\n",
       "      100 no_covs              0.048       0.052        0.050\n",
       "      100 all_covs             0.048       0.053        0.050\n",
       "      100 p_hacked             0.078       0.449        0.203\n",
       "      100 r                    0.048       0.053        0.050\n",
       "      100 partial_r            0.050       0.059        0.052\n",
       "      100 full_lm              0.051       0.087        0.064\n",
       "      100 full_lm_wo_x         0.047       0.054        0.050\n",
       "      100 lasso                0.051       0.067        0.058\n",
       "      100 lasso_wo_x           0.048       0.052        0.050\n",
       "      150 no_covs              0.047       0.053        0.050\n",
       "      150 all_covs             0.047       0.052        0.050\n",
       "      150 p_hacked             0.076       0.454        0.198\n",
       "      150 r                    0.048       0.051        0.050\n",
       "      150 partial_r            0.049       0.054        0.051\n",
       "      150 full_lm              0.049       0.081        0.059\n",
       "      150 full_lm_wo_x         0.047       0.052        0.050\n",
       "      150 lasso                0.049       0.062        0.055\n",
       "      150 lasso_wo_x           0.047       0.052        0.050\n",
       "      200 no_covs              0.048       0.052        0.050\n",
       "      200 all_covs             0.048       0.053        0.050\n",
       "      200 p_hacked             0.074       0.456        0.194\n",
       "      200 r                    0.047       0.053        0.050\n",
       "      200 partial_r            0.048       0.054        0.051\n",
       "      200 full_lm              0.048       0.071        0.056\n",
       "      200 full_lm_wo_x         0.048       0.052        0.050\n",
       "      200 lasso                0.049       0.059        0.054\n",
       "      200 lasso_wo_x           0.048       0.052        0.050\n",
       "      300 no_covs              0.047       0.053        0.050\n",
       "      300 all_covs             0.048       0.053        0.050\n",
       "      300 p_hacked             0.073       0.455        0.189\n",
       "      300 r                    0.048       0.053        0.050\n",
       "      300 partial_r            0.048       0.053        0.051\n",
       "      300 full_lm              0.049       0.061        0.054\n",
       "      300 full_lm_wo_x         0.049       0.052        0.050\n",
       "      300 lasso                0.049       0.056        0.052\n",
       "      300 lasso_wo_x           0.048       0.052        0.050\n",
       "      400 no_covs              0.048       0.053        0.050\n",
       "      400 all_covs             0.047       0.052        0.050\n",
       "      400 p_hacked             0.071       0.462        0.186\n",
       "      400 r                    0.047       0.052        0.050\n",
       "      400 partial_r            0.047       0.053        0.051\n",
       "      400 full_lm              0.047       0.058        0.053\n",
       "      400 full_lm_wo_x         0.047       0.052        0.050\n",
       "      400 lasso                0.047       0.055        0.052\n",
       "      400 lasso_wo_x           0.047       0.052        0.050\n"
      ]
     }
    }
   ],
   "source": [
    "\n",
    "d_0 |> \n",
    "  group_by(method, n_obs, n_covs, r_ycov, p_good_covs, r_cov) |> \n",
    "  summarise(prop_sig = mean(p_value < 0.05),\n",
    "            .groups = \"drop\") |> \n",
    "  group_by(n_obs, method) |> \n",
    "  summarise(typeI_min = min(prop_sig),\n",
    "            typeI_max = max(prop_sig),\n",
    "            typeI_mean = mean(prop_sig),\n",
    "            .groups = \"drop\") |> \n",
    "  kbl(caption = \"Type I error by n_obs\")\n"
   ],
   "id": "16a96d5e-0917-4247-bd4c-999285eac7cc"
  },
  {
   "cell_type": "code",
   "execution_count": null,
   "metadata": {},
   "outputs": [
    {
     "output_type": "display_data",
     "metadata": {},
     "data": {
      "text/html": [
       "\n"
      ],
      "text/markdown": [
       "    n_covs method           typeI_min   typeI_max   typeI_mean\n",
       "  -------- -------------- ----------- ----------- ------------\n",
       "         4 no_covs              0.047       0.052        0.050\n",
       "         4 all_covs             0.047       0.053        0.050\n",
       "         4 p_hacked             0.071       0.140        0.098\n",
       "         4 r                    0.047       0.053        0.050\n",
       "         4 partial_r            0.047       0.058        0.051\n",
       "         4 full_lm              0.047       0.062        0.053\n",
       "         4 full_lm_wo_x         0.048       0.052        0.050\n",
       "         4 lasso                0.047       0.058        0.052\n",
       "         4 lasso_wo_x           0.048       0.052        0.050\n",
       "         8 no_covs              0.047       0.052        0.050\n",
       "         8 all_covs             0.048       0.053        0.050\n",
       "         8 p_hacked             0.094       0.238        0.150\n",
       "         8 r                    0.047       0.052        0.050\n",
       "         8 partial_r            0.048       0.062        0.052\n",
       "         8 full_lm              0.048       0.082        0.056\n",
       "         8 full_lm_wo_x         0.047       0.054        0.050\n",
       "         8 lasso                0.049       0.067        0.054\n",
       "         8 lasso_wo_x           0.047       0.052        0.050\n",
       "        12 no_covs              0.049       0.052        0.050\n",
       "        12 all_covs             0.047       0.052        0.050\n",
       "        12 p_hacked             0.117       0.329        0.201\n",
       "        12 r                    0.047       0.052        0.050\n",
       "        12 partial_r            0.047       0.064        0.052\n",
       "        12 full_lm              0.047       0.093        0.060\n",
       "        12 full_lm_wo_x         0.047       0.052        0.050\n",
       "        12 lasso                0.048       0.074        0.057\n",
       "        12 lasso_wo_x           0.047       0.052        0.050\n",
       "        16 no_covs              0.048       0.053        0.050\n",
       "        16 all_covs             0.048       0.053        0.050\n",
       "        16 p_hacked             0.139       0.404        0.249\n",
       "        16 r                    0.047       0.053        0.050\n",
       "        16 partial_r            0.050       0.069        0.053\n",
       "        16 full_lm              0.051       0.094        0.064\n",
       "        16 full_lm_wo_x         0.047       0.052        0.050\n",
       "        16 lasso                0.051       0.080        0.059\n",
       "        16 lasso_wo_x           0.048       0.052        0.050\n",
       "        20 no_covs              0.048       0.051        0.050\n",
       "        20 all_covs             0.047       0.052        0.050\n",
       "        20 p_hacked             0.165       0.462        0.290\n",
       "        20 r                    0.048       0.052        0.050\n",
       "        20 partial_r            0.048       0.072        0.053\n",
       "        20 full_lm              0.050       0.096        0.066\n",
       "        20 full_lm_wo_x         0.048       0.052        0.050\n",
       "        20 lasso                0.050       0.089        0.061\n",
       "        20 lasso_wo_x           0.047       0.052        0.050\n"
      ]
     }
    }
   ],
   "source": [
    "\n",
    "d_0 |> \n",
    "  group_by(method, n_obs, n_covs, r_ycov, p_good_covs, r_cov) |> \n",
    "  summarise(prop_sig = mean(p_value < 0.05),\n",
    "            .groups = \"drop\") |> \n",
    "  group_by(n_covs, method) |> \n",
    "  summarise(typeI_min = min(prop_sig),\n",
    "            typeI_max = max(prop_sig),\n",
    "            typeI_mean = mean(prop_sig),\n",
    "            .groups = \"drop\") |> \n",
    "  kbl(caption = \"Type I error by n_covs\")\n"
   ],
   "id": "0bd37d1d-ecb4-4ef9-9927-92a514391785"
  },
  {
   "cell_type": "code",
   "execution_count": null,
   "metadata": {},
   "outputs": [
    {
     "output_type": "display_data",
     "metadata": {},
     "data": {
      "text/html": [
       "\n"
      ],
      "text/markdown": [
       "    p_good_covs method           typeI_min   typeI_max   typeI_mean\n",
       "  ------------- -------------- ----------- ----------- ------------\n",
       "           0.25 no_covs              0.048       0.053        0.050\n",
       "           0.25 all_covs             0.047       0.052        0.050\n",
       "           0.25 p_hacked             0.071       0.344        0.163\n",
       "           0.25 r                    0.048       0.053        0.050\n",
       "           0.25 partial_r            0.049       0.072        0.053\n",
       "           0.25 full_lm              0.050       0.090        0.057\n",
       "           0.25 full_lm_wo_x         0.047       0.052        0.050\n",
       "           0.25 lasso                0.050       0.089        0.058\n",
       "           0.25 lasso_wo_x           0.047       0.052        0.050\n",
       "           0.50 no_covs              0.047       0.053        0.050\n",
       "           0.50 all_covs             0.047       0.053        0.050\n",
       "           0.50 p_hacked             0.084       0.400        0.202\n",
       "           0.50 r                    0.047       0.052        0.050\n",
       "           0.50 partial_r            0.048       0.063        0.052\n",
       "           0.50 full_lm              0.048       0.094        0.060\n",
       "           0.50 full_lm_wo_x         0.047       0.054        0.050\n",
       "           0.50 lasso                0.049       0.084        0.057\n",
       "           0.50 lasso_wo_x           0.047       0.052        0.050\n",
       "           0.75 no_covs              0.048       0.053        0.050\n",
       "           0.75 all_covs             0.047       0.053        0.050\n",
       "           0.75 p_hacked             0.093       0.462        0.227\n",
       "           0.75 r                    0.047       0.053        0.050\n",
       "           0.75 partial_r            0.047       0.059        0.051\n",
       "           0.75 full_lm              0.047       0.096        0.062\n",
       "           0.75 full_lm_wo_x         0.047       0.052        0.050\n",
       "           0.75 lasso                0.047       0.081        0.055\n",
       "           0.75 lasso_wo_x           0.048       0.052        0.050\n"
      ]
     }
    }
   ],
   "source": [
    "\n",
    "d_0 |> \n",
    "  group_by(method, n_obs, n_covs, r_ycov, p_good_covs, r_cov) |> \n",
    "  summarise(prop_sig = mean(p_value < 0.05),\n",
    "            .groups = \"drop\") |> \n",
    "  group_by(p_good_covs, method) |> \n",
    "  summarise(typeI_min = min(prop_sig),\n",
    "            typeI_max = max(prop_sig),\n",
    "            typeI_mean = mean(prop_sig),\n",
    "            .groups = \"drop\") |> \n",
    "  kbl(caption = \"Type I error by p_good_covs\")\n"
   ],
   "id": "de8c6c66-e88d-4559-b2e3-c975bc0b4909"
  },
  {
   "cell_type": "code",
   "execution_count": null,
   "metadata": {},
   "outputs": [
    {
     "output_type": "display_data",
     "metadata": {},
     "data": {
      "text/html": [
       "\n"
      ],
      "text/markdown": [
       "    r_ycov method           typeI_min   typeI_max   typeI_mean\n",
       "  -------- -------------- ----------- ----------- ------------\n",
       "       0.3 no_covs              0.047       0.053        0.050\n",
       "       0.3 all_covs             0.048       0.053        0.050\n",
       "       0.3 p_hacked             0.071       0.276        0.145\n",
       "       0.3 r                    0.047       0.053        0.050\n",
       "       0.3 partial_r            0.048       0.072        0.053\n",
       "       0.3 full_lm              0.050       0.075        0.059\n",
       "       0.3 full_lm_wo_x         0.047       0.054        0.050\n",
       "       0.3 lasso                0.049       0.085        0.058\n",
       "       0.3 lasso_wo_x           0.048       0.052        0.050\n",
       "       0.5 no_covs              0.047       0.053        0.050\n",
       "       0.5 all_covs             0.047       0.053        0.050\n",
       "       0.5 p_hacked             0.082       0.462        0.250\n",
       "       0.5 r                    0.047       0.053        0.050\n",
       "       0.5 partial_r            0.047       0.058        0.051\n",
       "       0.5 full_lm              0.047       0.096        0.060\n",
       "       0.5 full_lm_wo_x         0.047       0.052        0.050\n",
       "       0.5 lasso                0.047       0.089        0.056\n",
       "       0.5 lasso_wo_x           0.047       0.052        0.050\n"
      ]
     }
    }
   ],
   "source": [
    "\n",
    "d_0 |> \n",
    "  group_by(method, n_obs, n_covs, r_ycov, p_good_covs, r_cov) |> \n",
    "  summarise(prop_sig = mean(p_value < 0.05),\n",
    "            .groups = \"drop\") |> \n",
    "  group_by(r_ycov, method) |> \n",
    "  summarise(typeI_min = min(prop_sig),\n",
    "            typeI_max = max(prop_sig),\n",
    "            typeI_mean = mean(prop_sig),\n",
    "            .groups = \"drop\") |> \n",
    "  kbl(caption = \"Type I error by y-cov correlations\")\n"
   ],
   "id": "cd29d785-af35-40e6-a5c6-a1a5979268e1"
  },
  {
   "cell_type": "markdown",
   "metadata": {},
   "source": [
    "### Type II error"
   ],
   "id": "b82e4d89-3b93-462d-98bd-561df431e44d"
  },
  {
   "cell_type": "code",
   "execution_count": null,
   "metadata": {},
   "outputs": [],
   "source": [
    "\n",
    "h03 <- d_03 |> \n",
    "  group_by(method, n_obs, n_covs, r_ycov, p_good_covs, r_cov) |> \n",
    "  summarise(type_II = mean(p_value >= 0.05),\n",
    "            .groups = \"drop\")\n"
   ],
   "id": "777b4c61-2e62-432a-9f4b-cadbcb4e56f1"
  },
  {
   "cell_type": "code",
   "execution_count": null,
   "metadata": {},
   "outputs": [
    {
     "output_type": "stream",
     "name": "stderr",
     "text": [
      "`stat_bin()` using `bins = 30`. Pick better value with `binwidth`."
     ]
    },
    {
     "output_type": "display_data",
     "metadata": {},
     "data": {
      "image/png": "[encoded data removed]"
     }
    }
   ],
   "source": [
    "\n",
    "h03 |>\n",
    "  filter(method != \"p_hacked\") |> \n",
    "  ggplot(aes(x = type_II)) +\n",
    "  geom_histogram() +\n",
    "  facet_wrap(~ method) +\n",
    "  labs(x = \"Type II Error\",\n",
    "       title = \"Distribution of Type II error, b_x = 0.3\")\n"
   ],
   "id": "cell-fig-histograms-all-03"
  },
  {
   "cell_type": "code",
   "execution_count": null,
   "metadata": {},
   "outputs": [],
   "source": [
    "\n",
    "h05 <- d_05 |> \n",
    "  group_by(method, n_obs, n_covs, r_ycov, p_good_covs, r_cov) |> \n",
    "  summarise(type_II = mean(p_value >= 0.05),\n",
    "            .groups = \"drop\")\n"
   ],
   "id": "1013a9bd-3029-467f-9aa6-cee904038a77"
  },
  {
   "cell_type": "code",
   "execution_count": null,
   "metadata": {},
   "outputs": [
    {
     "output_type": "stream",
     "name": "stderr",
     "text": [
      "`stat_bin()` using `bins = 30`. Pick better value with `binwidth`."
     ]
    },
    {
     "output_type": "display_data",
     "metadata": {},
     "data": {
      "image/png": "[encoded data removed]"
     }
    }
   ],
   "source": [
    "\n",
    "h05 |>\n",
    "  filter(method != \"p_hacked\") |> \n",
    "  ggplot(aes(x = type_II)) +\n",
    "  geom_histogram() +\n",
    "  facet_wrap(~ method) +\n",
    "  labs(x = \"Type II Error\",\n",
    "       title = \"Distribution of Type II error, b_x = 0.5\")\n"
   ],
   "id": "cell-fig-histograms-all-05"
  },
  {
   "cell_type": "code",
   "execution_count": null,
   "metadata": {},
   "outputs": [
    {
     "output_type": "display_data",
     "metadata": {},
     "data": {
      "text/html": [
       "\n"
      ],
      "text/markdown": [
       "    n_obs method           typeII_min   typeII_max   typeII_mean\n",
       "  ------- -------------- ------------ ------------ -------------\n",
       "       50 no_covs               0.815        0.824         0.819\n",
       "       50 all_covs              0.662        0.860         0.778\n",
       "       50 r                     0.628        0.816         0.750\n",
       "       50 partial_r             0.623        0.801         0.731\n",
       "       50 full_lm               0.644        0.801         0.735\n",
       "       50 full_lm_wo_x          0.742        0.831         0.798\n",
       "       50 lasso                 0.557        0.800         0.713\n",
       "       50 lasso_wo_x            0.629        0.824         0.761\n",
       "      100 no_covs               0.676        0.685         0.681\n",
       "      100 all_covs              0.296        0.684         0.549\n",
       "      100 r                     0.269        0.665         0.528\n",
       "      100 partial_r             0.266        0.657         0.520\n",
       "      100 full_lm               0.337        0.656         0.528\n",
       "      100 full_lm_wo_x          0.427        0.676         0.577\n",
       "      100 lasso                 0.256        0.656         0.513\n",
       "      100 lasso_wo_x            0.280        0.670         0.540\n",
       "      150 no_covs               0.549        0.560         0.554\n",
       "      150 all_covs              0.107        0.529         0.378\n",
       "      150 r                     0.098        0.525         0.364\n",
       "      150 partial_r             0.097        0.521         0.360\n",
       "      150 full_lm               0.141        0.521         0.366\n",
       "      150 full_lm_wo_x          0.187        0.535         0.393\n",
       "      150 lasso                 0.097        0.520         0.356\n",
       "      150 lasso_wo_x            0.098        0.531         0.371\n",
       "      200 no_covs               0.436        0.443         0.440\n",
       "      200 all_covs              0.032        0.406         0.257\n",
       "      200 r                     0.029        0.402         0.248\n",
       "      200 partial_r             0.029        0.400         0.245\n",
       "      200 full_lm               0.045        0.399         0.250\n",
       "      200 full_lm_wo_x          0.066        0.406         0.266\n",
       "      200 lasso                 0.030        0.399         0.244\n",
       "      200 lasso_wo_x            0.034        0.408         0.253\n",
       "      300 no_covs               0.260        0.268         0.264\n",
       "      300 all_covs              0.003        0.230         0.118\n",
       "      300 r                     0.003        0.229         0.114\n",
       "      300 partial_r             0.003        0.227         0.113\n",
       "      300 full_lm               0.004        0.227         0.116\n",
       "      300 full_lm_wo_x          0.005        0.225         0.123\n",
       "      300 lasso                 0.003        0.227         0.113\n",
       "      300 lasso_wo_x            0.003        0.228         0.116\n",
       "      400 no_covs               0.148        0.155         0.151\n",
       "      400 all_covs              0.000        0.121         0.053\n",
       "      400 r                     0.000        0.119         0.051\n",
       "      400 partial_r             0.000        0.119         0.051\n",
       "      400 full_lm               0.000        0.119         0.053\n",
       "      400 full_lm_wo_x          0.000        0.121         0.056\n",
       "      400 lasso                 0.000        0.119         0.051\n",
       "      400 lasso_wo_x            0.000        0.122         0.053\n"
      ]
     }
    }
   ],
   "source": [
    "\n",
    "d_03 |> \n",
    "  filter(method != \"p_hacked\") |> \n",
    "  group_by(method, n_obs, n_covs, r_ycov, p_good_covs, r_cov) |> \n",
    "  summarise(prop_not_sig = mean(p_value >= 0.05),\n",
    "            .groups = \"drop\") |> \n",
    "  group_by(n_obs, method) |> \n",
    "  summarise(typeII_min = min(prop_not_sig),\n",
    "            typeII_max = max(prop_not_sig),\n",
    "            typeII_mean = mean(prop_not_sig),\n",
    "            .groups = \"drop\") |> \n",
    "  kbl(caption = \"Type II error by n_obs, b_x = 0.3\")\n"
   ],
   "id": "4fd4cefe-7171-40e0-8810-8ae4476b0f89"
  },
  {
   "cell_type": "code",
   "execution_count": null,
   "metadata": {},
   "outputs": [
    {
     "output_type": "display_data",
     "metadata": {},
     "data": {
      "text/html": [
       "\n"
      ],
      "text/markdown": [
       "    n_obs method           typeII_min   typeII_max   typeII_mean\n",
       "  ------- -------------- ------------ ------------ -------------\n",
       "       50 no_covs               0.585        0.595         0.589\n",
       "       50 all_covs              0.274        0.687         0.503\n",
       "       50 r                     0.227        0.581         0.446\n",
       "       50 partial_r             0.223        0.558         0.420\n",
       "       50 full_lm               0.318        0.558         0.454\n",
       "       50 full_lm_wo_x          0.423        0.608         0.542\n",
       "       50 lasso                 0.171        0.558         0.408\n",
       "       50 lasso_wo_x            0.229        0.598         0.467\n",
       "      100 no_covs               0.296        0.308         0.303\n",
       "      100 all_covs              0.014        0.304         0.171\n",
       "      100 r                     0.010        0.276         0.151\n",
       "      100 partial_r             0.010        0.268         0.146\n",
       "      100 full_lm               0.035        0.268         0.158\n",
       "      100 full_lm_wo_x          0.058        0.295         0.189\n",
       "      100 lasso                 0.009        0.270         0.144\n",
       "      100 lasso_wo_x            0.012        0.285         0.159\n",
       "      150 no_covs               0.136        0.143         0.140\n",
       "      150 all_covs              0.000        0.119         0.056\n",
       "      150 r                     0.000        0.115         0.050\n",
       "      150 partial_r             0.000        0.113         0.049\n",
       "      150 full_lm               0.002        0.113         0.054\n",
       "      150 full_lm_wo_x          0.003        0.121         0.063\n",
       "      150 lasso                 0.000        0.114         0.049\n",
       "      150 lasso_wo_x            0.000        0.114         0.053\n",
       "      200 no_covs               0.056        0.062         0.059\n",
       "      200 all_covs              0.000        0.044         0.018\n",
       "      200 r                     0.000        0.043         0.016\n",
       "      200 partial_r             0.000        0.042         0.016\n",
       "      200 full_lm               0.000        0.042         0.018\n",
       "      200 full_lm_wo_x          0.000        0.044         0.021\n",
       "      200 lasso                 0.000        0.043         0.016\n",
       "      200 lasso_wo_x            0.000        0.044         0.017\n",
       "      300 no_covs               0.008        0.010         0.009\n",
       "      300 all_covs              0.000        0.006         0.002\n",
       "      300 r                     0.000        0.005         0.001\n",
       "      300 partial_r             0.000        0.005         0.001\n",
       "      300 full_lm               0.000        0.005         0.002\n",
       "      300 full_lm_wo_x          0.000        0.005         0.002\n",
       "      300 lasso                 0.000        0.006         0.001\n",
       "      300 lasso_wo_x            0.000        0.005         0.001\n",
       "      400 no_covs               0.001        0.002         0.001\n",
       "      400 all_covs              0.000        0.001         0.000\n",
       "      400 r                     0.000        0.000         0.000\n",
       "      400 partial_r             0.000        0.000         0.000\n",
       "      400 full_lm               0.000        0.000         0.000\n",
       "      400 full_lm_wo_x          0.000        0.001         0.000\n",
       "      400 lasso                 0.000        0.000         0.000\n",
       "      400 lasso_wo_x            0.000        0.001         0.000\n"
      ]
     }
    }
   ],
   "source": [
    "\n",
    "d_05 |> \n",
    "  filter(method != \"p_hacked\") |> \n",
    "  group_by(method, n_obs, n_covs, r_ycov, p_good_covs, r_cov) |> \n",
    "  summarise(prop_not_sig = mean(p_value >= 0.05),\n",
    "            .groups = \"drop\") |> \n",
    "  group_by(n_obs, method) |> \n",
    "  summarise(typeII_min = min(prop_not_sig),\n",
    "            typeII_max = max(prop_not_sig),\n",
    "            typeII_mean = mean(prop_not_sig),\n",
    "            .groups = \"drop\") |> \n",
    "  kbl(caption = \"Type II error by n_obs, b_x = 0.5\")\n"
   ],
   "id": "5a2f5189-e057-4ea3-ad35-8c63aa673c47"
  },
  {
   "cell_type": "code",
   "execution_count": null,
   "metadata": {},
   "outputs": [
    {
     "output_type": "display_data",
     "metadata": {},
     "data": {
      "text/html": [
       "\n"
      ],
      "text/markdown": [
       "    n_covs method           typeII_min   typeII_max   typeII_mean\n",
       "  -------- -------------- ------------ ------------ -------------\n",
       "         4 no_covs               0.148        0.821         0.485\n",
       "         4 all_covs              0.015        0.820         0.396\n",
       "         4 r                     0.015        0.816         0.393\n",
       "         4 partial_r             0.015        0.801         0.390\n",
       "         4 full_lm               0.015        0.801         0.389\n",
       "         4 full_lm_wo_x          0.017        0.819         0.397\n",
       "         4 lasso                 0.015        0.800         0.390\n",
       "         4 lasso_wo_x            0.017        0.820         0.396\n",
       "         8 no_covs               0.150        0.822         0.485\n",
       "         8 all_covs              0.004        0.826         0.361\n",
       "         8 r                     0.003        0.816         0.354\n",
       "         8 partial_r             0.003        0.791         0.349\n",
       "         8 full_lm               0.004        0.790         0.349\n",
       "         8 full_lm_wo_x          0.003        0.822         0.368\n",
       "         8 lasso                 0.004        0.788         0.348\n",
       "         8 lasso_wo_x            0.003        0.823         0.360\n",
       "        12 no_covs               0.150        0.821         0.485\n",
       "        12 all_covs              0.001        0.832         0.345\n",
       "        12 r                     0.001        0.813         0.332\n",
       "        12 partial_r             0.001        0.783         0.326\n",
       "        12 full_lm               0.001        0.782         0.330\n",
       "        12 full_lm_wo_x          0.001        0.824         0.359\n",
       "        12 lasso                 0.001        0.772         0.322\n",
       "        12 lasso_wo_x            0.001        0.823         0.340\n",
       "        16 no_covs               0.149        0.823         0.485\n",
       "        16 all_covs              0.000        0.843         0.339\n",
       "        16 r                     0.000        0.812         0.320\n",
       "        16 partial_r             0.000        0.783         0.314\n",
       "        16 full_lm               0.000        0.779         0.321\n",
       "        16 full_lm_wo_x          0.000        0.826         0.359\n",
       "        16 lasso                 0.000        0.760         0.306\n",
       "        16 lasso_wo_x            0.000        0.823         0.328\n",
       "        20 no_covs               0.149        0.824         0.485\n",
       "        20 all_covs              0.000        0.860         0.337\n",
       "        20 r                     0.000        0.816         0.313\n",
       "        20 partial_r             0.000        0.791         0.305\n",
       "        20 full_lm               0.000        0.783         0.317\n",
       "        20 full_lm_wo_x          0.000        0.831         0.361\n",
       "        20 lasso                 0.000        0.758         0.293\n",
       "        20 lasso_wo_x            0.000        0.824         0.321\n"
      ]
     }
    }
   ],
   "source": [
    "\n",
    "d_03 |> \n",
    "  filter(method != \"p_hacked\") |> \n",
    "  group_by(method, n_obs, n_covs, r_ycov, p_good_covs, r_cov) |> \n",
    "  summarise(prop_not_sig = mean(p_value >= 0.05),\n",
    "            .groups = \"drop\") |> \n",
    "  group_by(n_covs, method) |> \n",
    "  summarise(typeII_min = min(prop_not_sig),\n",
    "            typeII_max = max(prop_not_sig),\n",
    "            typeII_mean = mean(prop_not_sig),\n",
    "            .groups = \"drop\") |> \n",
    "  kbl(caption = \"Type II error by n_covs, b_x = 0.3\")\n"
   ],
   "id": "b7dd4572-e588-45eb-b7d4-90aebc36104d"
  },
  {
   "cell_type": "code",
   "execution_count": null,
   "metadata": {},
   "outputs": [
    {
     "output_type": "display_data",
     "metadata": {},
     "data": {
      "text/html": [
       "\n"
      ],
      "text/markdown": [
       "    n_covs method           typeII_min   typeII_max   typeII_mean\n",
       "  -------- -------------- ------------ ------------ -------------\n",
       "         4 no_covs               0.001        0.595         0.184\n",
       "         4 all_covs              0.000        0.589         0.134\n",
       "         4 r                     0.000        0.581         0.132\n",
       "         4 partial_r             0.000        0.558         0.128\n",
       "         4 full_lm               0.000        0.558         0.129\n",
       "         4 full_lm_wo_x          0.000        0.587         0.137\n",
       "         4 lasso                 0.000        0.558         0.129\n",
       "         4 lasso_wo_x            0.000        0.588         0.134\n",
       "         8 no_covs               0.001        0.593         0.183\n",
       "         8 all_covs              0.000        0.605         0.121\n",
       "         8 r                     0.000        0.578         0.114\n",
       "         8 partial_r             0.000        0.539         0.109\n",
       "         8 full_lm               0.000        0.546         0.114\n",
       "         8 full_lm_wo_x          0.000        0.591         0.130\n",
       "         8 lasso                 0.000        0.540         0.109\n",
       "         8 lasso_wo_x            0.000        0.588         0.119\n",
       "        12 no_covs               0.001        0.594         0.184\n",
       "        12 all_covs              0.000        0.624         0.119\n",
       "        12 r                     0.000        0.569         0.106\n",
       "        12 partial_r             0.000        0.520         0.100\n",
       "        12 full_lm               0.000        0.538         0.110\n",
       "        12 full_lm_wo_x          0.000        0.605         0.134\n",
       "        12 lasso                 0.000        0.518         0.099\n",
       "        12 lasso_wo_x            0.000        0.593         0.113\n",
       "        16 no_covs               0.001        0.593         0.184\n",
       "        16 all_covs              0.000        0.656         0.122\n",
       "        16 r                     0.000        0.576         0.102\n",
       "        16 partial_r             0.000        0.525         0.096\n",
       "        16 full_lm               0.000        0.538         0.109\n",
       "        16 full_lm_wo_x          0.000        0.605         0.137\n",
       "        16 lasso                 0.000        0.513         0.092\n",
       "        16 lasso_wo_x            0.000        0.597         0.109\n",
       "        20 no_covs               0.001        0.591         0.183\n",
       "        20 all_covs              0.000        0.687         0.128\n",
       "        20 r                     0.000        0.575         0.100\n",
       "        20 partial_r             0.000        0.536         0.094\n",
       "        20 full_lm               0.000        0.541         0.111\n",
       "        20 full_lm_wo_x          0.000        0.608         0.142\n",
       "        20 lasso                 0.000        0.500         0.087\n",
       "        20 lasso_wo_x            0.000        0.598         0.107\n"
      ]
     }
    }
   ],
   "source": [
    "\n",
    "d_05 |> \n",
    "  filter(method != \"p_hacked\") |> \n",
    "  group_by(method, n_obs, n_covs, r_ycov, p_good_covs, r_cov) |> \n",
    "  summarise(prop_not_sig = mean(p_value >= 0.05),\n",
    "            .groups = \"drop\") |> \n",
    "  group_by(n_covs, method) |> \n",
    "  summarise(typeII_min = min(prop_not_sig),\n",
    "            typeII_max = max(prop_not_sig),\n",
    "            typeII_mean = mean(prop_not_sig),\n",
    "            .groups = \"drop\") |> \n",
    "  kbl(caption = \"Type II error by n_covs, b_x = 0.5\")\n"
   ],
   "id": "ea0c84b1-2d02-41ef-94b2-37054ffd2343"
  },
  {
   "cell_type": "code",
   "execution_count": null,
   "metadata": {},
   "outputs": [
    {
     "output_type": "display_data",
     "metadata": {},
     "data": {
      "text/html": [
       "\n"
      ],
      "text/markdown": [
       "    p_good_covs method           typeII_min   typeII_max   typeII_mean\n",
       "  ------------- -------------- ------------ ------------ -------------\n",
       "           0.25 no_covs               0.148        0.824         0.485\n",
       "           0.25 all_covs              0.007        0.860         0.392\n",
       "           0.25 r                     0.006        0.816         0.375\n",
       "           0.25 partial_r             0.006        0.801         0.366\n",
       "           0.25 full_lm               0.006        0.801         0.367\n",
       "           0.25 full_lm_wo_x          0.005        0.831         0.386\n",
       "           0.25 lasso                 0.006        0.800         0.363\n",
       "           0.25 lasso_wo_x            0.006        0.824         0.385\n",
       "           0.50 no_covs               0.149        0.823         0.485\n",
       "           0.50 all_covs              0.001        0.852         0.349\n",
       "           0.50 r                     0.001        0.814         0.336\n",
       "           0.50 partial_r             0.001        0.795         0.330\n",
       "           0.50 full_lm               0.001        0.794         0.335\n",
       "           0.50 full_lm_wo_x          0.001        0.826         0.363\n",
       "           0.50 lasso                 0.001        0.792         0.326\n",
       "           0.50 lasso_wo_x            0.001        0.818         0.343\n",
       "           0.75 no_covs               0.148        0.821         0.485\n",
       "           0.75 all_covs              0.000        0.851         0.325\n",
       "           0.75 r                     0.000        0.808         0.317\n",
       "           0.75 partial_r             0.000        0.791         0.314\n",
       "           0.75 full_lm               0.000        0.789         0.322\n",
       "           0.75 full_lm_wo_x          0.000        0.825         0.357\n",
       "           0.75 lasso                 0.000        0.788         0.306\n",
       "           0.75 lasso_wo_x            0.000        0.812         0.319\n"
      ]
     }
    }
   ],
   "source": [
    "\n",
    "d_03 |> \n",
    "  filter(method != \"p_hacked\") |> \n",
    "  group_by(method, n_obs, n_covs, r_ycov, p_good_covs, r_cov) |> \n",
    "  summarise(prop_not_sig = mean(p_value >= 0.05),\n",
    "            .groups = \"drop\") |> \n",
    "  group_by(p_good_covs, method) |> \n",
    "  summarise(typeII_min = min(prop_not_sig),\n",
    "            typeII_max = max(prop_not_sig),\n",
    "            typeII_mean = mean(prop_not_sig),\n",
    "            .groups = \"drop\") |> \n",
    "  kbl(caption = \"Type II error by p_good_covs, b_x = 0.3\")\n"
   ],
   "id": "822c9d0a-43db-43a8-9637-337ed1f8a2e4"
  },
  {
   "cell_type": "code",
   "execution_count": null,
   "metadata": {},
   "outputs": [
    {
     "output_type": "display_data",
     "metadata": {},
     "data": {
      "text/html": [
       "\n"
      ],
      "text/markdown": [
       "    p_good_covs method           typeII_min   typeII_max   typeII_mean\n",
       "  ------------- -------------- ------------ ------------ -------------\n",
       "           0.25 no_covs               0.001        0.593         0.184\n",
       "           0.25 all_covs              0.000        0.687         0.144\n",
       "           0.25 r                     0.000        0.581         0.125\n",
       "           0.25 partial_r             0.000        0.558         0.117\n",
       "           0.25 full_lm               0.000        0.558         0.123\n",
       "           0.25 full_lm_wo_x          0.000        0.608         0.139\n",
       "           0.25 lasso                 0.000        0.558         0.117\n",
       "           0.25 lasso_wo_x            0.000        0.598         0.133\n",
       "           0.50 no_covs               0.001        0.591         0.184\n",
       "           0.50 all_covs              0.000        0.674         0.121\n",
       "           0.50 r                     0.000        0.570         0.107\n",
       "           0.50 partial_r             0.000        0.542         0.102\n",
       "           0.50 full_lm               0.000        0.546         0.112\n",
       "           0.50 full_lm_wo_x          0.000        0.607         0.134\n",
       "           0.50 lasso                 0.000        0.542         0.100\n",
       "           0.50 lasso_wo_x            0.000        0.588         0.114\n",
       "           0.75 no_covs               0.001        0.595         0.184\n",
       "           0.75 all_covs              0.000        0.666         0.110\n",
       "           0.75 r                     0.000        0.567         0.100\n",
       "           0.75 partial_r             0.000        0.537         0.097\n",
       "           0.75 full_lm               0.000        0.546         0.109\n",
       "           0.75 full_lm_wo_x          0.000        0.598         0.135\n",
       "           0.75 lasso                 0.000        0.540         0.092\n",
       "           0.75 lasso_wo_x            0.000        0.569         0.102\n"
      ]
     }
    }
   ],
   "source": [
    "\n",
    "d_05 |> \n",
    "  filter(method != \"p_hacked\") |> \n",
    "  group_by(method, n_obs, n_covs, r_ycov, p_good_covs, r_cov) |> \n",
    "  summarise(prop_not_sig = mean(p_value >= 0.05),\n",
    "            .groups = \"drop\") |> \n",
    "  group_by(p_good_covs, method) |> \n",
    "  summarise(typeII_min = min(prop_not_sig),\n",
    "            typeII_max = max(prop_not_sig),\n",
    "            typeII_mean = mean(prop_not_sig),\n",
    "            .groups = \"drop\") |> \n",
    "  kbl(caption = \"Type II error by p_good_covs, b_x = 0.5\")\n"
   ],
   "id": "4352ac54-cb02-4e61-bd08-78a24adc2dd6"
  },
  {
   "cell_type": "code",
   "execution_count": null,
   "metadata": {},
   "outputs": [
    {
     "output_type": "display_data",
     "metadata": {},
     "data": {
      "text/html": [
       "\n"
      ],
      "text/markdown": [
       "    r_ycov method           typeII_min   typeII_max   typeII_mean\n",
       "  -------- -------------- ------------ ------------ -------------\n",
       "       0.3 no_covs               0.148        0.824         0.485\n",
       "       0.3 all_covs              0.078        0.860         0.442\n",
       "       0.3 r                     0.074        0.816         0.429\n",
       "       0.3 partial_r             0.073        0.801         0.421\n",
       "       0.3 full_lm               0.083        0.801         0.425\n",
       "       0.3 full_lm_wo_x          0.090        0.831         0.450\n",
       "       0.3 lasso                 0.072        0.800         0.415\n",
       "       0.3 lasso_wo_x            0.074        0.824         0.434\n",
       "       0.5 no_covs               0.148        0.823         0.485\n",
       "       0.5 all_covs              0.000        0.790         0.270\n",
       "       0.5 r                     0.000        0.781         0.255\n",
       "       0.5 partial_r             0.000        0.773         0.252\n",
       "       0.5 full_lm               0.000        0.772         0.258\n",
       "       0.5 full_lm_wo_x          0.000        0.805         0.287\n",
       "       0.5 lasso                 0.000        0.769         0.248\n",
       "       0.5 lasso_wo_x            0.000        0.787         0.264\n"
      ]
     }
    }
   ],
   "source": [
    "\n",
    "d_03 |> \n",
    "  filter(method != \"p_hacked\") |> \n",
    "  group_by(method, n_obs, n_covs, r_ycov, p_good_covs, r_cov) |> \n",
    "  summarise(prop_not_sig = mean(p_value >= 0.05),\n",
    "            .groups = \"drop\") |> \n",
    "  group_by(r_ycov, method) |> \n",
    "  summarise(typeII_min = min(prop_not_sig),\n",
    "            typeII_max = max(prop_not_sig),\n",
    "            typeII_mean = mean(prop_not_sig),\n",
    "            .groups = \"drop\") |> \n",
    "  kbl(caption = \"Type II error by correlations, b_x = 0.3\")\n"
   ],
   "id": "9eb82b83-a1a0-4501-b7bf-22ad9cd30c0c"
  },
  {
   "cell_type": "code",
   "execution_count": null,
   "metadata": {},
   "outputs": [
    {
     "output_type": "display_data",
     "metadata": {},
     "data": {
      "text/html": [
       "\n"
      ],
      "text/markdown": [
       "    r_ycov method           typeII_min   typeII_max   typeII_mean\n",
       "  -------- -------------- ------------ ------------ -------------\n",
       "       0.3 no_covs               0.001        0.595         0.184\n",
       "       0.3 all_covs              0.000        0.687         0.170\n",
       "       0.3 r                     0.000        0.581         0.154\n",
       "       0.3 partial_r             0.000        0.558         0.146\n",
       "       0.3 full_lm               0.000        0.558         0.153\n",
       "       0.3 full_lm_wo_x          0.000        0.608         0.172\n",
       "       0.3 lasso                 0.000        0.558         0.142\n",
       "       0.3 lasso_wo_x            0.000        0.598         0.159\n",
       "       0.5 no_covs               0.001        0.594         0.184\n",
       "       0.5 all_covs              0.000        0.516         0.080\n",
       "       0.5 r                     0.000        0.499         0.067\n",
       "       0.5 partial_r             0.000        0.488         0.065\n",
       "       0.5 full_lm               0.000        0.486         0.076\n",
       "       0.5 full_lm_wo_x          0.000        0.563         0.100\n",
       "       0.5 lasso                 0.000        0.487         0.064\n",
       "       0.5 lasso_wo_x            0.000        0.516         0.074\n"
      ]
     }
    }
   ],
   "source": [
    "\n",
    "d_05 |> \n",
    "  filter(method != \"p_hacked\") |> \n",
    "  group_by(method, n_obs, n_covs, r_ycov, p_good_covs, r_cov) |> \n",
    "  summarise(prop_not_sig = mean(p_value >= 0.05),\n",
    "            .groups = \"drop\") |> \n",
    "  group_by(r_ycov, method) |> \n",
    "  summarise(typeII_min = min(prop_not_sig),\n",
    "            typeII_max = max(prop_not_sig),\n",
    "            typeII_mean = mean(prop_not_sig),\n",
    "            .groups = \"drop\") |> \n",
    "  kbl(caption = \"Type II error by correlations, b_x = 0.5\")\n"
   ],
   "id": "1c387216-5438-4065-acf7-f5a53fbb24ac"
  },
  {
   "cell_type": "markdown",
   "metadata": {},
   "source": [
    "### TPR & FPR"
   ],
   "id": "330b9d47-02ad-44a4-91af-1ad431ba724a"
  },
  {
   "cell_type": "code",
   "execution_count": null,
   "metadata": {},
   "outputs": [
    {
     "output_type": "display_data",
     "metadata": {},
     "data": {
      "text/html": [
       "\n"
      ],
      "text/markdown": [
       "  method         covs_tpr_mean\n",
       "  -------------- ---------------\n",
       "  no_covs        0.000\n",
       "  all_covs       1.000\n",
       "  p_hacked       0.496\n",
       "  r              0.947\n",
       "  partial_r      0.945\n",
       "  full_lm        0.641\n",
       "  full_lm_wo_x   0.643\n",
       "  lasso          0.888\n",
       "  lasso_wo_x     0.888\n"
      ]
     }
    }
   ],
   "source": [
    "\n",
    "d_0 |> \n",
    "  group_by(method) |> \n",
    "  summarise(covs_tpr_mean = sprintf(\"%.3f\", mean(covs_tpr)),\n",
    "            .groups = \"drop\") |> \n",
    "  kbl(caption = \"TPR, b_x = 0\")\n"
   ],
   "id": "a167338f-8c46-4f3b-9dbf-4f745a88ea73"
  },
  {
   "cell_type": "code",
   "execution_count": null,
   "metadata": {},
   "outputs": [
    {
     "output_type": "display_data",
     "metadata": {},
     "data": {
      "image/png": "[encoded data removed]"
     }
    }
   ],
   "source": [
    "\n",
    "d_0 |> \n",
    "  mutate(n_good_covs = n_covs * p_good_covs) |> \n",
    "  group_by(method, n_good_covs) |> \n",
    "  summarise(covs_tpr_mean = mean(covs_tpr),\n",
    "            .groups = \"drop\") |> \n",
    "  ggplot(aes(x = n_good_covs, y = covs_tpr_mean, color = method, linetype = method)) + \n",
    "  geom_line() +\n",
    "  scale_x_continuous(breaks = c(1, 2, 3, 4, 5, 6, 8, 9, 10, 12, 15)) +\n",
    "  labs(y = \"True Positive Rate\",\n",
    "       title = \"TPR by n_good_covs, b_x = 0\") +\n",
    "  scale_linetype_manual(values = method_linetypes) +\n",
    "  scale_color_manual(values = method_colors)\n"
   ],
   "id": "cell-fig-tpr-0"
  },
  {
   "cell_type": "code",
   "execution_count": null,
   "metadata": {},
   "outputs": [
    {
     "output_type": "display_data",
     "metadata": {},
     "data": {
      "text/html": [
       "\n"
      ],
      "text/markdown": [
       "  method         covs_tpr_mean\n",
       "  -------------- ---------------\n",
       "  no_covs        0.000\n",
       "  all_covs       1.000\n",
       "  p_hacked       0.656\n",
       "  r              0.944\n",
       "  partial_r      0.945\n",
       "  full_lm        0.641\n",
       "  full_lm_wo_x   0.635\n",
       "  lasso          0.888\n",
       "  lasso_wo_x     0.884\n"
      ]
     }
    }
   ],
   "source": [
    "\n",
    "d_03 |> \n",
    "  group_by(method) |> \n",
    "  summarise(covs_tpr_mean = sprintf(\"%.3f\", mean(covs_tpr)),\n",
    "            .groups = \"drop\") |> \n",
    "  kbl(caption = \"TPR, b_x = 0.3\")\n"
   ],
   "id": "fc938290-97d6-4c5d-b518-9ebaae97af12"
  },
  {
   "cell_type": "code",
   "execution_count": null,
   "metadata": {},
   "outputs": [
    {
     "output_type": "display_data",
     "metadata": {},
     "data": {
      "image/png": "[encoded data removed]"
     }
    }
   ],
   "source": [
    "\n",
    "d_03 |> \n",
    "  mutate(n_good_covs = n_covs * p_good_covs) |> \n",
    "  group_by(method, n_good_covs) |> \n",
    "  summarise(covs_tpr_mean = mean(covs_tpr),\n",
    "            .groups = \"drop\") |> \n",
    "  ggplot(aes(x = n_good_covs, y = covs_tpr_mean, color = method, linetype = method)) + \n",
    "  geom_line() +\n",
    "  scale_x_continuous(breaks = c(1, 2, 3, 4, 5, 6, 8, 9, 10, 12, 15)) +\n",
    "  labs(y = \"True Positive Rate\",\n",
    "       title = \"TPR by n_good_covs, b_x = 0.3\") +\n",
    "  scale_linetype_manual(values = method_linetypes) +\n",
    "  scale_color_manual(values = method_colors)\n"
   ],
   "id": "cell-fig-tpr-03"
  },
  {
   "cell_type": "code",
   "execution_count": null,
   "metadata": {},
   "outputs": [
    {
     "output_type": "display_data",
     "metadata": {},
     "data": {
      "text/html": [
       "\n"
      ],
      "text/markdown": [
       "  method         covs_tpr_mean\n",
       "  -------------- ---------------\n",
       "  no_covs        0.000\n",
       "  all_covs       1.000\n",
       "  p_hacked       0.747\n",
       "  r              0.940\n",
       "  partial_r      0.945\n",
       "  full_lm        0.641\n",
       "  full_lm_wo_x   0.620\n",
       "  lasso          0.888\n",
       "  lasso_wo_x     0.877\n"
      ]
     }
    }
   ],
   "source": [
    "\n",
    "d_05 |> \n",
    "  group_by(method) |> \n",
    "  summarise(covs_tpr_mean = sprintf(\"%.3f\", mean(covs_tpr)),\n",
    "            .groups = \"drop\") |> \n",
    "  kbl(caption = \"TPR, b_x = 0.5\")\n"
   ],
   "id": "5dedd9c8-1ae0-409b-9772-decc2574b554"
  },
  {
   "cell_type": "code",
   "execution_count": null,
   "metadata": {},
   "outputs": [
    {
     "output_type": "display_data",
     "metadata": {},
     "data": {
      "image/png": "[encoded data removed]"
     }
    }
   ],
   "source": [
    "\n",
    "d_05 |> \n",
    "  mutate(n_good_covs = n_covs * p_good_covs) |> \n",
    "  group_by(method, n_good_covs) |> \n",
    "  summarise(covs_tpr_mean = mean(covs_tpr),\n",
    "            .groups = \"drop\") |> \n",
    "  ggplot(aes(x = n_good_covs, y = covs_tpr_mean, color = method, linetype = method)) + \n",
    "  geom_line() +\n",
    "  scale_x_continuous(breaks = c(1, 2, 3, 4, 5, 6, 8, 9, 10, 12, 15)) +\n",
    "  labs(y = \"True Positive Rate\",\n",
    "       title = \"TPR by n_good_covs, b_x = 0.5\") +\n",
    "  scale_linetype_manual(values = method_linetypes) +\n",
    "  scale_color_manual(values = method_colors)\n"
   ],
   "id": "cell-fig-tpr-05"
  },
  {
   "cell_type": "code",
   "execution_count": null,
   "metadata": {},
   "outputs": [
    {
     "output_type": "display_data",
     "metadata": {},
     "data": {
      "text/html": [
       "\n"
      ],
      "text/markdown": [
       "  method         covs_fpr_mean\n",
       "  -------------- ---------------\n",
       "  no_covs        0.000\n",
       "  all_covs       1.000\n",
       "  p_hacked       0.466\n",
       "  r              0.050\n",
       "  partial_r      0.050\n",
       "  full_lm        0.050\n",
       "  full_lm_wo_x   0.050\n",
       "  lasso          0.313\n",
       "  lasso_wo_x     0.310\n"
      ]
     }
    }
   ],
   "source": [
    "\n",
    "d_0 |> \n",
    "  group_by(method) |> \n",
    "  summarise(covs_fpr_mean = sprintf(\"%.3f\", mean(covs_fpr)),\n",
    "            .groups = \"drop\") |> \n",
    "  kbl(caption = \"FPR, b_x = 0\")\n"
   ],
   "id": "32eb7c2c-e718-47d8-9d39-8117565b990e"
  },
  {
   "cell_type": "code",
   "execution_count": null,
   "metadata": {},
   "outputs": [
    {
     "output_type": "display_data",
     "metadata": {},
     "data": {
      "image/png": "[encoded data removed]"
     }
    }
   ],
   "source": [
    "\n",
    "d_0 |> \n",
    "  mutate(n_good_covs = n_covs * p_good_covs) |> \n",
    "  group_by(method, n_good_covs) |> \n",
    "  summarise(covs_fpr_mean = mean(covs_fpr),\n",
    "            .groups = \"drop\") |> \n",
    "  ggplot(aes(x = n_good_covs, y = covs_fpr_mean, color = method, linetype = method)) + \n",
    "  geom_line() +\n",
    "  scale_x_continuous(breaks = c(1, 2, 3, 4, 5, 6, 8, 9, 10, 12, 15)) +\n",
    "  labs(y = \"False Positive Rate\",\n",
    "       title = \"FPR by n_good_covs, b_x = 0\") +\n",
    "  scale_linetype_manual(values = method_linetypes) +\n",
    "  scale_color_manual(values = method_colors)\n"
   ],
   "id": "cell-fig-fpr-0"
  },
  {
   "cell_type": "code",
   "execution_count": null,
   "metadata": {},
   "outputs": [
    {
     "output_type": "display_data",
     "metadata": {},
     "data": {
      "text/html": [
       "\n"
      ],
      "text/markdown": [
       "  method         covs_fpr_mean\n",
       "  -------------- ---------------\n",
       "  no_covs        0.000\n",
       "  all_covs       1.000\n",
       "  p_hacked       0.415\n",
       "  r              0.050\n",
       "  partial_r      0.050\n",
       "  full_lm        0.050\n",
       "  full_lm_wo_x   0.050\n",
       "  lasso          0.314\n",
       "  lasso_wo_x     0.308\n"
      ]
     }
    }
   ],
   "source": [
    "\n",
    "d_03 |> \n",
    "  group_by(method) |> \n",
    "  summarise(covs_fpr_mean = sprintf(\"%.3f\", mean(covs_fpr)),\n",
    "            .groups = \"drop\") |> \n",
    "  kbl(caption = \"FPR, b_x = 0.3\")\n"
   ],
   "id": "0628d7cd-2556-43fe-bc35-bc5962e7ab74"
  },
  {
   "cell_type": "code",
   "execution_count": null,
   "metadata": {},
   "outputs": [
    {
     "output_type": "display_data",
     "metadata": {},
     "data": {
      "image/png": "[encoded data removed]"
     }
    }
   ],
   "source": [
    "\n",
    "d_03 |> \n",
    "  mutate(n_good_covs = n_covs * p_good_covs) |> \n",
    "  group_by(method, n_good_covs) |> \n",
    "  summarise(covs_fpr_mean = mean(covs_fpr),\n",
    "            .groups = \"drop\") |> \n",
    "  ggplot(aes(x = n_good_covs, y = covs_fpr_mean, color = method, linetype = method)) + \n",
    "  geom_line() +\n",
    "  scale_x_continuous(breaks = c(1, 2, 3, 4, 5, 6, 8, 9, 10, 12, 15)) +\n",
    "  labs(y = \"False Positive Rate\",\n",
    "       title = \"FPR by n_good_covs, b_x = 0.3\") +\n",
    "  scale_linetype_manual(values = method_linetypes) +\n",
    "  scale_color_manual(values = method_colors)\n"
   ],
   "id": "cell-fig-fpr-03"
  },
  {
   "cell_type": "code",
   "execution_count": null,
   "metadata": {},
   "outputs": [
    {
     "output_type": "display_data",
     "metadata": {},
     "data": {
      "text/html": [
       "\n"
      ],
      "text/markdown": [
       "  method         covs_fpr_mean\n",
       "  -------------- ---------------\n",
       "  no_covs        0.000\n",
       "  all_covs       1.000\n",
       "  p_hacked       0.375\n",
       "  r              0.050\n",
       "  partial_r      0.050\n",
       "  full_lm        0.050\n",
       "  full_lm_wo_x   0.050\n",
       "  lasso          0.313\n",
       "  lasso_wo_x     0.304\n"
      ]
     }
    }
   ],
   "source": [
    "\n",
    "d_05 |> \n",
    "  group_by(method) |> \n",
    "  summarise(covs_fpr_mean = sprintf(\"%.3f\", mean(covs_fpr)),\n",
    "            .groups = \"drop\") |> \n",
    "  kbl(caption = \"FPR, b_x = 0.5\")\n"
   ],
   "id": "ee694f09-bf96-4dcc-a4f8-a723852e1614"
  },
  {
   "cell_type": "code",
   "execution_count": null,
   "metadata": {},
   "outputs": [
    {
     "output_type": "display_data",
     "metadata": {},
     "data": {
      "image/png": "[encoded data removed]"
     }
    }
   ],
   "source": [
    "\n",
    "d_05 |> \n",
    "  mutate(n_good_covs = n_covs * p_good_covs) |> \n",
    "  group_by(method, n_good_covs) |> \n",
    "  summarise(covs_fpr_mean = mean(covs_fpr),\n",
    "            .groups = \"drop\") |> \n",
    "  ggplot(aes(x = n_good_covs, y = covs_fpr_mean, color = method, linetype = method)) + \n",
    "  geom_line() +\n",
    "  scale_x_continuous(breaks = c(1, 2, 3, 4, 5, 6, 8, 9, 10, 12, 15)) +\n",
    "  labs(y = \"False Positive Rate\",\n",
    "       title = \"FPR by n_good_covs, b_x = 0.5\") +\n",
    "  scale_linetype_manual(values = method_linetypes) +\n",
    "  scale_color_manual(values = method_colors)\n"
   ],
   "id": "cell-fig-fpr-05"
  },
  {
   "cell_type": "code",
   "execution_count": null,
   "metadata": {},
   "outputs": [
    {
     "output_type": "display_data",
     "metadata": {},
     "data": {
      "text/html": [
       "\n"
      ],
      "text/markdown": [
       "  method         mean_estimate     SD_estimate   SE_mean   difference\n",
       "  -------------- --------------- ------------- --------- ------------\n",
       "  no_covs        -0.000                  0.178     0.178        0.000\n",
       "  all_covs       0.000                   0.155     0.155        0.000\n",
       "  p_hacked       0.000                   0.238     0.157        0.080\n",
       "  r              0.000                   0.145     0.145        0.000\n",
       "  partial_r      0.000                   0.147     0.145        0.003\n",
       "  full_lm        0.000                   0.156     0.147        0.008\n",
       "  full_lm_wo_x   0.000                   0.147     0.147        0.000\n",
       "  lasso          0.000                   0.150     0.143        0.007\n",
       "  lasso_wo_x     0.000                   0.143     0.143        0.000\n"
      ]
     }
    }
   ],
   "source": [
    "\n",
    "d_0 |> \n",
    "  group_by(method) |> \n",
    "  summarise(mean_estimate = sprintf(\"%.3f\", mean(estimate)*-1),\n",
    "            SD_estimate = sd(estimate),\n",
    "            SE_mean = sqrt(mean(SE^2)),\n",
    "            difference = SD_estimate - SE_mean) |> \n",
    "  kbl(caption = \"b_x = 0\")\n"
   ],
   "id": "16e99009-7264-413c-9f7e-1d3cdc37a8a3"
  },
  {
   "cell_type": "code",
   "execution_count": null,
   "metadata": {},
   "outputs": [
    {
     "output_type": "display_data",
     "metadata": {},
     "data": {
      "text/html": [
       "\n"
      ],
      "text/markdown": [
       "  method           mean_estimate   SD_estimate   mean_SE   difference\n",
       "  -------------- --------------- ------------- --------- ------------\n",
       "  no_covs                  0.300         0.178     0.178        0.000\n",
       "  all_covs                 0.300         0.155     0.155        0.000\n",
       "  r                        0.297         0.145     0.145        0.000\n",
       "  partial_r                0.300         0.147     0.145        0.003\n",
       "  full_lm                  0.300         0.156     0.147        0.008\n",
       "  full_lm_wo_x             0.287         0.149     0.148        0.001\n",
       "  lasso                    0.300         0.150     0.143        0.007\n",
       "  lasso_wo_x               0.292         0.144     0.143        0.000\n"
      ]
     }
    }
   ],
   "source": [
    "\n",
    "d_03 |> \n",
    "  filter(method != \"p_hacked\") |> \n",
    "  group_by(method) |> \n",
    "  summarise(mean_estimate = mean(estimate),\n",
    "            SD_estimate = sd(estimate),\n",
    "            mean_SE = sqrt(mean(SE^2)),\n",
    "            difference = SD_estimate - mean_SE) |> \n",
    "  kbl(caption = \"Estimate, SD, SE: b_x = 0.3\")\n"
   ],
   "id": "82f66b5b-540b-4a77-bbfb-4eff2b7c4bef"
  },
  {
   "cell_type": "code",
   "execution_count": null,
   "metadata": {},
   "outputs": [
    {
     "output_type": "display_data",
     "metadata": {},
     "data": {
      "text/html": [
       "\n"
      ],
      "text/markdown": [
       "  method           mean_estimate   SD_estimate   mean_SE   difference\n",
       "  -------------- --------------- ------------- --------- ------------\n",
       "  no_covs                  0.500         0.178     0.178        0.000\n",
       "  all_covs                 0.500         0.155     0.155        0.000\n",
       "  r                        0.495         0.145     0.145        0.000\n",
       "  partial_r                0.500         0.147     0.145        0.003\n",
       "  full_lm                  0.500         0.155     0.147        0.008\n",
       "  full_lm_wo_x             0.479         0.151     0.148        0.002\n",
       "  lasso                    0.500         0.150     0.143        0.007\n",
       "  lasso_wo_x               0.487         0.144     0.143        0.001\n"
      ]
     }
    }
   ],
   "source": [
    "\n",
    "d_05 |> \n",
    "  filter(method != \"p_hacked\") |> \n",
    "  group_by(method) |> \n",
    "  summarise(mean_estimate = mean(estimate),\n",
    "            SD_estimate = sd(estimate),\n",
    "            mean_SE = sqrt(mean(SE^2)),\n",
    "            difference = SD_estimate - mean_SE) |> \n",
    "  kbl(caption = \"Estimate, SD, SE: b_x = 0.5\")\n"
   ],
   "id": "576d9169-0ba6-45a2-88dd-eaf4d5535089"
  }
 ],
 "nbformat": 4,
 "nbformat_minor": 5,
 "metadata": {}
}
