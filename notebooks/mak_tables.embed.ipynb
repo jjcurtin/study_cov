{
 "cells": [
  {
   "cell_type": "markdown",
   "metadata": {},
   "source": [
    "# Make Tables for Main Manuscript\n",
    "\n",
    "Lauren Khoury  \n",
    "July 30, 2025"
   ],
   "id": "3d386e5a-d244-46c2-a7ac-c9cea2bc8ec6"
  },
  {
   "cell_type": "code",
   "execution_count": null,
   "metadata": {},
   "outputs": [
    {
     "output_type": "stream",
     "name": "stderr",
     "text": [
      "Warning: package 'skimr' was built under R version 4.4.3"
     ]
    },
    {
     "output_type": "stream",
     "name": "stderr",
     "text": [
      "Warning: package 'ggplot2' was built under R version 4.4.3"
     ]
    },
    {
     "output_type": "stream",
     "name": "stderr",
     "text": [
      "Warning: package 'cowplot' was built under R version 4.4.3"
     ]
    },
    {
     "output_type": "stream",
     "name": "stderr",
     "text": [
      "Warning: package 'kableExtra' was built under R version 4.4.3"
     ]
    }
   ],
   "source": [
    "#| label: set up\n",
    "\n",
    "library(dplyr) |> suppressMessages()\n",
    "library(skimr)"
   ],
   "id": "4943fee8-b302-4dfd-8592-c43f24d9e5c1"
  },
  {
   "cell_type": "code",
   "execution_count": null,
   "metadata": {},
   "outputs": [
    {
     "output_type": "display_data",
     "metadata": {},
     "data": {
      "text/html": [
       "<table class=\"table table-striped table-hover\" style=\"font-size: 20px; width: auto !important; margin-left: auto; margin-right: auto;\">\n",
       " <thead>\n",
       "  <tr>\n",
       "   <th style=\"text-align:left;\"> Variable </th>\n",
       "   <th style=\"text-align:left;\"> Description </th>\n",
       "   <th style=\"text-align:left;\"> Values </th>\n",
       "  </tr>\n",
       " </thead>\n",
       "<tbody>\n",
       "  <tr>\n",
       "   <td style=\"text-align:left;width: 8em; \"> b_x </td>\n",
       "   <td style=\"text-align:left;width: 15em; \"> the population parameter for X </td>\n",
       "   <td style=\"text-align:left;width: 10em; \"> 0, 0.3, 0.5 </td>\n",
       "  </tr>\n",
       "  <tr>\n",
       "   <td style=\"text-align:left;width: 8em; \"> n_obs </td>\n",
       "   <td style=\"text-align:left;width: 15em; \"> number of observations in sample </td>\n",
       "   <td style=\"text-align:left;width: 10em; \"> 50, 100, 150, 200, 300, 400 </td>\n",
       "  </tr>\n",
       "  <tr>\n",
       "   <td style=\"text-align:left;width: 8em; \"> n_covs </td>\n",
       "   <td style=\"text-align:left;width: 15em; \"> number of covariates </td>\n",
       "   <td style=\"text-align:left;width: 10em; \"> 4, 8, 12, 16, 20 </td>\n",
       "  </tr>\n",
       "  <tr>\n",
       "   <td style=\"text-align:left;width: 8em; \"> r_ycov </td>\n",
       "   <td style=\"text-align:left;width: 15em; \"> correlation between Y and covariates </td>\n",
       "   <td style=\"text-align:left;width: 10em; \"> 0.3, 0.5 </td>\n",
       "  </tr>\n",
       "  <tr>\n",
       "   <td style=\"text-align:left;width: 8em; \"> p_good_covs </td>\n",
       "   <td style=\"text-align:left;width: 15em; \"> percentage of \"good\" covariates </td>\n",
       "   <td style=\"text-align:left;width: 10em; \"> 0.25, 0.50, 0.75 </td>\n",
       "  </tr>\n",
       "  <tr>\n",
       "   <td style=\"text-align:left;width: 8em; \"> r_cov </td>\n",
       "   <td style=\"text-align:left;width: 15em; \"> correlation between \"good\" covariates </td>\n",
       "   <td style=\"text-align:left;width: 10em; \"> 0.3 </td>\n",
       "  </tr>\n",
       "</tbody>\n",
       "</table>\n"
      ]
     }
    }
   ],
   "source": [
    "#| label: tbl-dictionary\n",
    "\n",
    "data_tbl0 <- tibble(\n",
    "  variable = c(\"b_x\", \"n_obs\", \"n_covs\", \"r_ycov\", \"p_good_covs\", \"r_cov\"),\n",
    "  description = c(\n",
    "    \"the population parameter for X\",\n",
    "    \"number of observations in sample\",\n",
    "    \"number of covariates\",\n",
    "    \"correlation between Y and covariates\",\n",
    "    \"percentage of \\\"good\\\" covariates\",\n",
    "    \"correlation between \\\"good\\\" covariates\"\n",
    "  ),\n",
    "  values = c(\"0, 0.3, 0.5\",\n",
    "             \"50, 100, 150, 200, 300, 400\", \n",
    "             \"4, 8, 12, 16, 20\", \n",
    "             \"0.3, 0.5\", \n",
    "             \"0.25, 0.50, 0.75\", \n",
    "             \"0.3\")\n",
    ")\n",
    "\n",
    "data_tbl0 |>\n",
    "  kbl(col.names = c(\"Variable\", \"Description\", \"Values\"), \n",
    "      escape = FALSE) |>\n",
    "  kable_styling(bootstrap_options = c(\"striped\", \"hover\"), \n",
    "                full_width = FALSE,\n",
    "                font_size = 20) |>\n",
    "  column_spec(1, width = \"8em\") |>\n",
    "  column_spec(2, width = \"15em\") |>\n",
    "  column_spec(3, width = \"10em\")"
   ],
   "id": "9b842b3b-0f60-4f08-a6d4-8c3f08848424"
  }
 ],
 "nbformat": 4,
 "nbformat_minor": 5,
 "metadata": {}
}
