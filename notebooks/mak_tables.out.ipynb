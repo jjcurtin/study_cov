{
 "cells": [
  {
   "cell_type": "markdown",
   "metadata": {},
   "source": [
    "# Make Tables for Main Manuscript\n",
    "\n",
    "Lauren Khoury  \n",
    "July 30, 2025"
   ],
   "id": "6f8941d7-47f7-491f-af3f-bc056bc592c4"
  },
  {
   "cell_type": "code",
   "execution_count": null,
   "metadata": {},
   "outputs": [
    {
     "output_type": "stream",
     "name": "stderr",
     "text": [
      "Warning: package 'skimr' was built under R version 4.4.3"
     ]
    },
    {
     "output_type": "stream",
     "name": "stderr",
     "text": [
      "Warning: package 'ggplot2' was built under R version 4.4.3"
     ]
    },
    {
     "output_type": "stream",
     "name": "stderr",
     "text": [
      "Warning: package 'cowplot' was built under R version 4.4.3"
     ]
    },
    {
     "output_type": "stream",
     "name": "stderr",
     "text": [
      "Warning: package 'kableExtra' was built under R version 4.4.3"
     ]
    }
   ],
   "source": [
    "\n",
    "library(dplyr) |> suppressMessages()\n",
    "library(skimr)\n"
   ],
   "id": "0f7bd5d0-fe53-41f5-9716-f483cedc1ff5"
  },
  {
   "cell_type": "code",
   "execution_count": null,
   "metadata": {},
   "outputs": [
    {
     "output_type": "display_data",
     "metadata": {},
     "data": {
      "text/html": [
       "<table class=\"table table-striped table-hover\" style=\"font-size: 20px; width: auto !important; margin-left: auto; margin-right: auto;\">\n",
       " <thead>\n",
       "  <tr>\n",
       "   <th style=\"text-align:left;\"> Variable </th>\n",
       "   <th style=\"text-align:left;\"> Description </th>\n",
       "   <th style=\"text-align:left;\"> Values </th>\n",
       "  </tr>\n",
       " </thead>\n",
       "<tbody>\n",
       "  <tr>\n",
       "   <td style=\"text-align:left;width: 8em; \"> b_x </td>\n",
       "   <td style=\"text-align:left;width: 15em; \"> the population parameter for X </td>\n",
       "   <td style=\"text-align:left;width: 10em; \"> 0, 0.3, 0.5 </td>\n",
       "  </tr>\n",
       "  <tr>\n",
       "   <td style=\"text-align:left;width: 8em; \"> n_obs </td>\n",
       "   <td style=\"text-align:left;width: 15em; \"> number of observations in sample </td>\n",
       "   <td style=\"text-align:left;width: 10em; \"> 50, 100, 150, 200, 300, 400 </td>\n",
       "  </tr>\n",
       "  <tr>\n",
       "   <td style=\"text-align:left;width: 8em; \"> n_covs </td>\n",
       "   <td style=\"text-align:left;width: 15em; \"> number of covariates </td>\n",
       "   <td style=\"text-align:left;width: 10em; \"> 4, 8, 12, 16, 20 </td>\n",
       "  </tr>\n",
       "  <tr>\n",
       "   <td style=\"text-align:left;width: 8em; \"> r_ycov </td>\n",
       "   <td style=\"text-align:left;width: 15em; \"> correlation between Y and covariates </td>\n",
       "   <td style=\"text-align:left;width: 10em; \"> 0.3, 0.5 </td>\n",
       "  </tr>\n",
       "  <tr>\n",
       "   <td style=\"text-align:left;width: 8em; \"> p_good_covs </td>\n",
       "   <td style=\"text-align:left;width: 15em; \"> percentage of \"good\" covariates </td>\n",
       "   <td style=\"text-align:left;width: 10em; \"> 0.25, 0.50, 0.75 </td>\n",
       "  </tr>\n",
       "  <tr>\n",
       "   <td style=\"text-align:left;width: 8em; \"> r_cov </td>\n",
       "   <td style=\"text-align:left;width: 15em; \"> correlation between \"good\" covariates </td>\n",
       "   <td style=\"text-align:left;width: 10em; \"> 0.3 </td>\n",
       "  </tr>\n",
       "</tbody>\n",
       "</table>\n"
      ]
     }
    }
   ],
   "source": [
    "\n",
    "data_tbl0 <- tibble(\n",
    "  variable = c(\"b_x\", \"n_obs\", \"n_covs\", \"r_ycov\", \"p_good_covs\", \"r_cov\"),\n",
    "  description = c(\n",
    "    \"the population parameter for X\",\n",
    "    \"number of observations in sample\",\n",
    "    \"number of covariates\",\n",
    "    \"correlation between Y and covariates\",\n",
    "    \"percentage of \\\"good\\\" covariates\",\n",
    "    \"correlation between \\\"good\\\" covariates\"\n",
    "  ),\n",
    "  values = c(\"0, 0.3, 0.5\",\n",
    "             \"50, 100, 150, 200, 300, 400\", \n",
    "             \"4, 8, 12, 16, 20\", \n",
    "             \"0.3, 0.5\", \n",
    "             \"0.25, 0.50, 0.75\", \n",
    "             \"0.3\")\n",
    ")\n",
    "\n",
    "data_tbl0 |>\n",
    "  kbl(col.names = c(\"Variable\", \"Description\", \"Values\"), \n",
    "      escape = FALSE) |>\n",
    "  kable_styling(bootstrap_options = c(\"striped\", \"hover\"), \n",
    "                full_width = FALSE,\n",
    "                font_size = 20) |>\n",
    "  column_spec(1, width = \"8em\") |>\n",
    "  column_spec(2, width = \"15em\") |>\n",
    "  column_spec(3, width = \"10em\")\n"
   ],
   "id": "8c7b6449-7445-4163-9e3e-33df63ebb259"
  }
 ],
 "nbformat": 4,
 "nbformat_minor": 5,
 "metadata": {}
}
