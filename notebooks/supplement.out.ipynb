{
 "cells": [
  {
   "cell_type": "markdown",
   "metadata": {},
   "source": [
    "# Supplemental Material\n",
    "\n",
    "This file contains the supplemental materials for *Title of paper*. It includes all supplemental figures and tables. Additional materials are made available on our study’s OSF page (<https://osf.io/zh5gn/>).\n",
    "\n",
    "------------------------------------------------------------------------"
   ],
   "id": "ceb929ed-93d0-417c-b8d4-6f9f951448da"
  }
 ],
 "nbformat": 4,
 "nbformat_minor": 5,
 "metadata": {}
}
