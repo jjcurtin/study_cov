{
 "cells": [
  {
   "cell_type": "markdown",
   "metadata": {},
   "source": [
    "# Supplemental Material\n",
    "\n",
    "This file contains the supplemental materials for *Title of paper*. It includes all supplemental figures and tables. Additional materials are made available on our study’s OSF page (<https://osf.io/zh5gn/>).\n",
    "\n",
    "------------------------------------------------------------------------"
   ],
   "id": "0d5f1295-e331-4834-9b90-2052e62b896e"
  }
 ],
 "nbformat": 4,
 "nbformat_minor": 5,
 "metadata": {}
}
